{
  "nbformat": 4,
  "nbformat_minor": 0,
  "metadata": {
    "colab": {
      "name": "Numpy_Pandas.ipynb",
      "provenance": [],
      "collapsed_sections": [],
      "include_colab_link": true
    },
    "kernelspec": {
      "name": "python3",
      "display_name": "Python 3"
    },
    "language_info": {
      "name": "python"
    }
  },
  "cells": [
    {
      "cell_type": "markdown",
      "metadata": {
        "id": "view-in-github",
        "colab_type": "text"
      },
      "source": [
        "<a href=\"https://colab.research.google.com/github/gueretamartin/datacademy/blob/main/Numpy_Pandas.ipynb\" target=\"_parent\"><img src=\"https://colab.research.google.com/assets/colab-badge.svg\" alt=\"Open In Colab\"/></a>"
      ]
    },
    {
      "cell_type": "markdown",
      "metadata": {
        "id": "-C1c6Lb1-DAs"
      },
      "source": [
        "## Usando NumPy"
      ]
    },
    {
      "cell_type": "markdown",
      "metadata": {
        "id": "N5CDTAR5-MqM"
      },
      "source": [
        "NumPy significa \"Python numérico\" o \"Python numérico\". Es un módulo *open source* de Python que proporciona cálculos matemáticos rápidos en arreglos y matrices. Dado que los arreglos y matrices son una parte esencial del ecosistema de aprendizaje automático, NumPy se usa con otros módulos de machine learning como Scikit-learn, Pandas, Matplotlib, TensorFlow, etc."
      ]
    },
    {
      "cell_type": "markdown",
      "metadata": {
        "id": "Li6CwakN-8Po"
      },
      "source": [
        "### Jugando con numpy\n",
        "\n",
        "**Importando el módulo**"
      ]
    },
    {
      "cell_type": "code",
      "metadata": {
        "id": "bXi6zIed9MXG"
      },
      "source": [
        "import numpy as np"
      ],
      "execution_count": null,
      "outputs": []
    },
    {
      "cell_type": "markdown",
      "metadata": {
        "id": "CsLJ-Sul_E7N"
      },
      "source": [
        "**Creando vectores**"
      ]
    },
    {
      "cell_type": "code",
      "metadata": {
        "id": "yNpWJtz89hhF",
        "colab": {
          "base_uri": "https://localhost:8080/"
        },
        "outputId": "8bce3363-3c8f-431a-90c9-4cc432c81464"
      },
      "source": [
        "lista = [1,2,3,4]\n",
        "lista "
      ],
      "execution_count": null,
      "outputs": [
        {
          "output_type": "execute_result",
          "data": {
            "text/plain": [
              "[1, 2, 3, 4]"
            ]
          },
          "metadata": {
            "tags": []
          },
          "execution_count": 3
        }
      ]
    },
    {
      "cell_type": "code",
      "metadata": {
        "id": "utFDOWys9SXE",
        "colab": {
          "base_uri": "https://localhost:8080/"
        },
        "outputId": "6687da35-b9fa-45d8-ca68-2f1d537e921a"
      },
      "source": [
        "lista_vector = np.array(lista)\n",
        "type(lista)\n",
        "# type(lista_vector)"
      ],
      "execution_count": null,
      "outputs": [
        {
          "output_type": "execute_result",
          "data": {
            "text/plain": [
              "list"
            ]
          },
          "metadata": {
            "tags": []
          },
          "execution_count": 12
        }
      ]
    },
    {
      "cell_type": "code",
      "metadata": {
        "id": "Q4yGJSXm9tBA",
        "colab": {
          "base_uri": "https://localhost:8080/"
        },
        "outputId": "b5c695f7-a918-44db-8417-34e0d704e564"
      },
      "source": [
        "vector_unos = np.ones(5)\n",
        "vector_unos"
      ],
      "execution_count": null,
      "outputs": [
        {
          "output_type": "execute_result",
          "data": {
            "text/plain": [
              "array([1., 1., 1., 1., 1.])"
            ]
          },
          "metadata": {
            "tags": []
          },
          "execution_count": 16
        }
      ]
    },
    {
      "cell_type": "code",
      "metadata": {
        "id": "hLr3lVgW97ox",
        "colab": {
          "base_uri": "https://localhost:8080/"
        },
        "outputId": "2382e02a-ab25-434a-c76d-5e045650bf16"
      },
      "source": [
        "vector_cero = np.zeros(3)\n",
        "vector_cero"
      ],
      "execution_count": null,
      "outputs": [
        {
          "output_type": "execute_result",
          "data": {
            "text/plain": [
              "array([0., 0., 0.])"
            ]
          },
          "metadata": {
            "tags": []
          },
          "execution_count": 17
        }
      ]
    },
    {
      "cell_type": "markdown",
      "metadata": {
        "id": "6O9KLpqR_X3s"
      },
      "source": [
        "## Usando Pandas\n",
        "\n",
        "Pandas es una de las bibliotecas de Python más utilizadas en la ciencia de datos. Proporciona estructuras y herramientas de análisis de datos de alto rendimiento y fáciles de usar. A diferencia de la biblioteca NumPy que proporciona objetos para matrices multidimensionales, Pandas proporciona un objeto de tabla 2d en memoria llamado Dataframe. Es como una hoja de cálculo con nombres de columnas y etiquetas de filas.\n",
        "\n"
      ]
    },
    {
      "cell_type": "markdown",
      "metadata": {
        "id": "3dDIjbd3Cu0f"
      },
      "source": [
        "###Jugando con Pandas"
      ]
    },
    {
      "cell_type": "markdown",
      "metadata": {
        "id": "le2UK_C4_5uZ"
      },
      "source": [
        "**Importando el módulo**"
      ]
    },
    {
      "cell_type": "code",
      "metadata": {
        "id": "iyYKNuzu_78J"
      },
      "source": [
        "import pandas as pd"
      ],
      "execution_count": null,
      "outputs": []
    },
    {
      "cell_type": "markdown",
      "metadata": {
        "id": "7dh6KKqVAEcZ"
      },
      "source": [
        "**Creando un DataFrame de un diccionario**"
      ]
    },
    {
      "cell_type": "code",
      "metadata": {
        "id": "fph94FwNAMyr",
        "colab": {
          "base_uri": "https://localhost:8080/",
          "height": 172
        },
        "outputId": "31b6790e-9746-4a6e-80b9-0d85a76b5831"
      },
      "source": [
        "data = {'Nombre':['Enrique', 'Sofia', 'Carlos','Lucia'],'Edad':[24,31,29,42]}\n",
        "df = pd.DataFrame(data)\n",
        "df"
      ],
      "execution_count": null,
      "outputs": [
        {
          "output_type": "execute_result",
          "data": {
            "text/html": [
              "<div>\n",
              "<style scoped>\n",
              "    .dataframe tbody tr th:only-of-type {\n",
              "        vertical-align: middle;\n",
              "    }\n",
              "\n",
              "    .dataframe tbody tr th {\n",
              "        vertical-align: top;\n",
              "    }\n",
              "\n",
              "    .dataframe thead th {\n",
              "        text-align: right;\n",
              "    }\n",
              "</style>\n",
              "<table border=\"1\" class=\"dataframe\">\n",
              "  <thead>\n",
              "    <tr style=\"text-align: right;\">\n",
              "      <th></th>\n",
              "      <th>Nombre</th>\n",
              "      <th>Edad</th>\n",
              "    </tr>\n",
              "  </thead>\n",
              "  <tbody>\n",
              "    <tr>\n",
              "      <th>0</th>\n",
              "      <td>Enrique</td>\n",
              "      <td>24</td>\n",
              "    </tr>\n",
              "    <tr>\n",
              "      <th>1</th>\n",
              "      <td>Sofia</td>\n",
              "      <td>31</td>\n",
              "    </tr>\n",
              "    <tr>\n",
              "      <th>2</th>\n",
              "      <td>Carlos</td>\n",
              "      <td>29</td>\n",
              "    </tr>\n",
              "    <tr>\n",
              "      <th>3</th>\n",
              "      <td>Lucia</td>\n",
              "      <td>42</td>\n",
              "    </tr>\n",
              "  </tbody>\n",
              "</table>\n",
              "</div>"
            ],
            "text/plain": [
              "    Nombre  Edad\n",
              "0  Enrique    24\n",
              "1    Sofia    31\n",
              "2   Carlos    29\n",
              "3    Lucia    42"
            ]
          },
          "metadata": {
            "tags": []
          },
          "execution_count": 22
        }
      ]
    },
    {
      "cell_type": "markdown",
      "metadata": {
        "id": "_wUOZL3IBKmv"
      },
      "source": [
        "**Creando un DataFrame de un arreglo**"
      ]
    },
    {
      "cell_type": "code",
      "metadata": {
        "id": "xZNTKsJFBo4g",
        "colab": {
          "base_uri": "https://localhost:8080/",
          "height": 172
        },
        "outputId": "86e18cc9-a544-428b-c1c3-47529769b441"
      },
      "source": [
        "data = [[\"Enrique\",24],[\"Sofia\",31],[\"Carlos\",29],[\"Lucia\",42]]\n",
        "df = pd.DataFrame(data,columns=['Nombre','Edad'])\n",
        "df"
      ],
      "execution_count": null,
      "outputs": [
        {
          "output_type": "execute_result",
          "data": {
            "text/html": [
              "<div>\n",
              "<style scoped>\n",
              "    .dataframe tbody tr th:only-of-type {\n",
              "        vertical-align: middle;\n",
              "    }\n",
              "\n",
              "    .dataframe tbody tr th {\n",
              "        vertical-align: top;\n",
              "    }\n",
              "\n",
              "    .dataframe thead th {\n",
              "        text-align: right;\n",
              "    }\n",
              "</style>\n",
              "<table border=\"1\" class=\"dataframe\">\n",
              "  <thead>\n",
              "    <tr style=\"text-align: right;\">\n",
              "      <th></th>\n",
              "      <th>Nombre</th>\n",
              "      <th>Edad</th>\n",
              "    </tr>\n",
              "  </thead>\n",
              "  <tbody>\n",
              "    <tr>\n",
              "      <th>0</th>\n",
              "      <td>Enrique</td>\n",
              "      <td>24</td>\n",
              "    </tr>\n",
              "    <tr>\n",
              "      <th>1</th>\n",
              "      <td>Sofia</td>\n",
              "      <td>31</td>\n",
              "    </tr>\n",
              "    <tr>\n",
              "      <th>2</th>\n",
              "      <td>Carlos</td>\n",
              "      <td>29</td>\n",
              "    </tr>\n",
              "    <tr>\n",
              "      <th>3</th>\n",
              "      <td>Lucia</td>\n",
              "      <td>42</td>\n",
              "    </tr>\n",
              "  </tbody>\n",
              "</table>\n",
              "</div>"
            ],
            "text/plain": [
              "    Nombre  Edad\n",
              "0  Enrique    24\n",
              "1    Sofia    31\n",
              "2   Carlos    29\n",
              "3    Lucia    42"
            ]
          },
          "metadata": {
            "tags": []
          },
          "execution_count": 23
        }
      ]
    }
  ]
}